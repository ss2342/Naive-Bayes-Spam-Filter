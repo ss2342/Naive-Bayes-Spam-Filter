{
  "nbformat": 4,
  "nbformat_minor": 0,
  "metadata": {
    "colab": {
      "name": "Bayes Classifier - Testing.ipynb",
      "provenance": []
    },
    "kernelspec": {
      "name": "python3",
      "display_name": "Python 3"
    },
    "language_info": {
      "name": "python"
    }
  },
  "cells": [
    {
      "cell_type": "markdown",
      "metadata": {
        "id": "9Qu8WVNsILl_"
      },
      "source": [
        "# Notebook Imports"
      ]
    },
    {
      "cell_type": "code",
      "metadata": {
        "id": "t5TRyZEOIEIg"
      },
      "source": [
        "import pandas as pd\n",
        "import numpy as np\n",
        "\n",
        "import matplotlib.pyplot as plt\n",
        "# from matplotlib.colors import ListedColormap\n",
        "import seaborn as sns\n",
        "\n",
        "# from sklearn.preprocessing import StandardScaler"
      ],
      "execution_count": 44,
      "outputs": []
    },
    {
      "cell_type": "code",
      "metadata": {
        "colab": {
          "base_uri": "https://localhost:8080/"
        },
        "id": "vzrlpHoeIddq",
        "outputId": "61c5033a-30e1-4e9a-97a7-d7d43c5b884d"
      },
      "source": [
        "from google.colab import drive\n",
        "drive.mount('/content/drive')"
      ],
      "execution_count": 2,
      "outputs": [
        {
          "output_type": "stream",
          "text": [
            "Drive already mounted at /content/drive; to attempt to forcibly remount, call drive.mount(\"/content/drive\", force_remount=True).\n"
          ],
          "name": "stdout"
        }
      ]
    },
    {
      "cell_type": "markdown",
      "metadata": {
        "id": "Gewz7Mu9Ihzl"
      },
      "source": [
        "# Constants"
      ]
    },
    {
      "cell_type": "code",
      "metadata": {
        "id": "MSOEvrVJIkHI"
      },
      "source": [
        "TOKEN_SPAM_PROB_FILE = '/content/drive/MyDrive/Machine Learning /Naive Bayes Spam Filter/SpamData/03_Testing/prob-spam.txt'\n",
        "TOKEN_HAM_PROB_FILE = '/content/drive/MyDrive/Machine Learning /Naive Bayes Spam Filter/SpamData/03_Testing/prob-nonspam.txt'\n",
        "TOKEN_ALL_PROB_FILE = '/content/drive/MyDrive/Machine Learning /Naive Bayes Spam Filter/SpamData/03_Testing/prob-all.txt'\n",
        "\n",
        "TEST_FEATURE_MATRIX = '/content/drive/MyDrive/Machine Learning /Naive Bayes Spam Filter/SpamData/03_Testing/test-features.txt'\n",
        "TEST_TARGET_MATRIX = '/content/drive/MyDrive/Machine Learning /Naive Bayes Spam Filter/SpamData/03_Testing/test-target.txt'\n",
        "\n",
        "VOCAB_SIZE = 2500"
      ],
      "execution_count": 3,
      "outputs": []
    },
    {
      "cell_type": "markdown",
      "metadata": {
        "id": "nXXitfXXI3V5"
      },
      "source": [
        "# Load the Data"
      ]
    },
    {
      "cell_type": "code",
      "metadata": {
        "id": "oAnXe4ALI2ab"
      },
      "source": [
        "# Features\n",
        "X_test = np.loadtxt(TEST_FEATURE_MATRIX, delimiter=' ')\n",
        "\n",
        "# Target\n",
        "y_test = np.loadtxt(TEST_TARGET_MATRIX, delimiter=' ')\n",
        "\n",
        "# Token Probabilities\n",
        "prob_token_spam = np.loadtxt(TOKEN_SPAM_PROB_FILE, delimiter=' ')\n",
        "prob_token_ham = np.loadtxt(TOKEN_HAM_PROB_FILE, delimiter=' ')\n",
        "prob_token_all = np.loadtxt(TOKEN_ALL_PROB_FILE, delimiter=' ')"
      ],
      "execution_count": 4,
      "outputs": []
    },
    {
      "cell_type": "code",
      "metadata": {
        "colab": {
          "base_uri": "https://localhost:8080/"
        },
        "id": "tQP4PNeCJe5k",
        "outputId": "2f2ccf9a-f155-423f-b90c-72185763245d"
      },
      "source": [
        "X_test"
      ],
      "execution_count": 5,
      "outputs": [
        {
          "output_type": "execute_result",
          "data": {
            "text/plain": [
              "array([[0., 0., 1., ..., 0., 0., 0.],\n",
              "       [1., 0., 1., ..., 0., 0., 0.],\n",
              "       [1., 1., 0., ..., 0., 0., 0.],\n",
              "       ...,\n",
              "       [1., 1., 1., ..., 0., 0., 0.],\n",
              "       [1., 1., 0., ..., 0., 0., 0.],\n",
              "       [1., 1., 1., ..., 0., 0., 0.]])"
            ]
          },
          "metadata": {
            "tags": []
          },
          "execution_count": 5
        }
      ]
    },
    {
      "cell_type": "code",
      "metadata": {
        "colab": {
          "base_uri": "https://localhost:8080/"
        },
        "id": "4hRiHjfiJhch",
        "outputId": "070b73f1-993b-45fa-d436-10da4232b1e4"
      },
      "source": [
        "y_test"
      ],
      "execution_count": 6,
      "outputs": [
        {
          "output_type": "execute_result",
          "data": {
            "text/plain": [
              "array([1., 1., 1., ..., 0., 0., 0.])"
            ]
          },
          "metadata": {
            "tags": []
          },
          "execution_count": 6
        }
      ]
    },
    {
      "cell_type": "code",
      "metadata": {
        "colab": {
          "base_uri": "https://localhost:8080/"
        },
        "id": "wX9VHHq4Jiwi",
        "outputId": "1ea1d2d0-3b78-4d5b-e349-ab121184fad5"
      },
      "source": [
        "prob_token_spam"
      ],
      "execution_count": 7,
      "outputs": [
        {
          "output_type": "execute_result",
          "data": {
            "text/plain": [
              "array([0.01059678, 0.00489925, 0.00722626, ..., 0.00014609, 0.00014609,\n",
              "       0.00014087])"
            ]
          },
          "metadata": {
            "tags": []
          },
          "execution_count": 7
        }
      ]
    },
    {
      "cell_type": "code",
      "metadata": {
        "colab": {
          "base_uri": "https://localhost:8080/"
        },
        "id": "xSgEPMyoJmP_",
        "outputId": "b58530f0-e39a-462a-96de-cc1304562be5"
      },
      "source": [
        "prob_token_ham"
      ],
      "execution_count": 8,
      "outputs": [
        {
          "output_type": "execute_result",
          "data": {
            "text/plain": [
              "array([2.16227307e-02, 1.04246815e-02, 8.00593441e-03, ...,\n",
              "       3.15660302e-05, 2.76202764e-05, 7.89150755e-06])"
            ]
          },
          "metadata": {
            "tags": []
          },
          "execution_count": 8
        }
      ]
    },
    {
      "cell_type": "code",
      "metadata": {
        "colab": {
          "base_uri": "https://localhost:8080/"
        },
        "id": "3K4msLeNJnwC",
        "outputId": "e1a7b5f9-4fa3-4726-8a38-f2340bf5e96f"
      },
      "source": [
        "prob_token_all"
      ],
      "execution_count": 9,
      "outputs": [
        {
          "output_type": "execute_result",
          "data": {
            "text/plain": [
              "array([1.69679552e-02, 8.08858583e-03, 7.71126912e-03, ...,\n",
              "       7.90783531e-05, 7.68189716e-05, 6.32626825e-05])"
            ]
          },
          "metadata": {
            "tags": []
          },
          "execution_count": 9
        }
      ]
    },
    {
      "cell_type": "markdown",
      "metadata": {
        "id": "-YTCbxe0OdPx"
      },
      "source": [
        "# Calculating the Joint Probability\n",
        "\n"
      ]
    },
    {
      "cell_type": "markdown",
      "metadata": {
        "id": "pbEOUyILO6p1"
      },
      "source": [
        "## The Dot Product"
      ]
    },
    {
      "cell_type": "code",
      "metadata": {
        "colab": {
          "base_uri": "https://localhost:8080/"
        },
        "id": "SYQ5xiRDJqLU",
        "outputId": "9dd9e18a-14a3-439f-bf7b-7e420884ff13"
      },
      "source": [
        "a = np.array([1, 2, 3])\n",
        "b = np.array([0, 5, 4])\n",
        "\n",
        "print('a = ', a)\n",
        "print('b = ', b)"
      ],
      "execution_count": 10,
      "outputs": [
        {
          "output_type": "stream",
          "text": [
            "a =  [1 2 3]\n",
            "b =  [0 5 4]\n"
          ],
          "name": "stdout"
        }
      ]
    },
    {
      "cell_type": "code",
      "metadata": {
        "colab": {
          "base_uri": "https://localhost:8080/"
        },
        "id": "ICJXQMVDSqI8",
        "outputId": "706083df-d056-4f56-ffa4-f7710a6122a6"
      },
      "source": [
        "a.shape"
      ],
      "execution_count": 11,
      "outputs": [
        {
          "output_type": "execute_result",
          "data": {
            "text/plain": [
              "(3,)"
            ]
          },
          "metadata": {
            "tags": []
          },
          "execution_count": 11
        }
      ]
    },
    {
      "cell_type": "code",
      "metadata": {
        "colab": {
          "base_uri": "https://localhost:8080/"
        },
        "id": "ue0hOPpyPJHF",
        "outputId": "c41a0c98-394d-4a17-8caa-3410a9ffe828"
      },
      "source": [
        "a.dot(b)"
      ],
      "execution_count": 12,
      "outputs": [
        {
          "output_type": "execute_result",
          "data": {
            "text/plain": [
              "22"
            ]
          },
          "metadata": {
            "tags": []
          },
          "execution_count": 12
        }
      ]
    },
    {
      "cell_type": "code",
      "metadata": {
        "colab": {
          "base_uri": "https://localhost:8080/"
        },
        "id": "8N4vK2CfRy98",
        "outputId": "38040736-edb3-405e-ffe2-b7276978ba66"
      },
      "source": [
        "X_test.shape"
      ],
      "execution_count": 13,
      "outputs": [
        {
          "output_type": "execute_result",
          "data": {
            "text/plain": [
              "(1722, 2500)"
            ]
          },
          "metadata": {
            "tags": []
          },
          "execution_count": 13
        }
      ]
    },
    {
      "cell_type": "code",
      "metadata": {
        "colab": {
          "base_uri": "https://localhost:8080/"
        },
        "id": "RQWJ5n9ySCkk",
        "outputId": "89916cb7-70bf-4db5-8a25-17e6ef9de8b7"
      },
      "source": [
        "prob_token_spam.shape"
      ],
      "execution_count": 14,
      "outputs": [
        {
          "output_type": "execute_result",
          "data": {
            "text/plain": [
              "(2500,)"
            ]
          },
          "metadata": {
            "tags": []
          },
          "execution_count": 14
        }
      ]
    },
    {
      "cell_type": "code",
      "metadata": {
        "colab": {
          "base_uri": "https://localhost:8080/"
        },
        "id": "hskCH42pUwbe",
        "outputId": "79aea7db-2389-4e37-8801-7f42e3ccbcad"
      },
      "source": [
        "X_test.shape"
      ],
      "execution_count": 15,
      "outputs": [
        {
          "output_type": "execute_result",
          "data": {
            "text/plain": [
              "(1722, 2500)"
            ]
          },
          "metadata": {
            "tags": []
          },
          "execution_count": 15
        }
      ]
    },
    {
      "cell_type": "code",
      "metadata": {
        "colab": {
          "base_uri": "https://localhost:8080/"
        },
        "id": "KpR74mDSVPI6",
        "outputId": "143a101a-b601-4a66-f2af-d371efe9ed50"
      },
      "source": [
        "prob_token_spam.shape"
      ],
      "execution_count": 16,
      "outputs": [
        {
          "output_type": "execute_result",
          "data": {
            "text/plain": [
              "(2500,)"
            ]
          },
          "metadata": {
            "tags": []
          },
          "execution_count": 16
        }
      ]
    },
    {
      "cell_type": "code",
      "metadata": {
        "colab": {
          "base_uri": "https://localhost:8080/"
        },
        "id": "Cz8qeyYUVSck",
        "outputId": "9c820a99-92fc-492a-d2d4-1db940c842a0"
      },
      "source": [
        "print('shape of dot product is', X_test.dot(prob_token_spam).shape)"
      ],
      "execution_count": 17,
      "outputs": [
        {
          "output_type": "stream",
          "text": [
            "shape of dot product is (1722,)\n"
          ],
          "name": "stdout"
        }
      ]
    },
    {
      "cell_type": "markdown",
      "metadata": {
        "id": "ehPYeQWTjnJ5"
      },
      "source": [
        "## Set the Prior Probability: Spam\n",
        "\n",
        "$$P(Spam \\, | \\, X) = \\frac{P(X \\, | Spam) \\,  P(Spam)} {P(X)}$$"
      ]
    },
    {
      "cell_type": "code",
      "metadata": {
        "id": "wASDI77cw6MH"
      },
      "source": [
        "# we acquired this is in our training file\n",
        "PROB_SPAM = 0.3116 \n",
        "PROB_HAM = 1 - PROB_SPAM"
      ],
      "execution_count": 18,
      "outputs": []
    },
    {
      "cell_type": "code",
      "metadata": {
        "id": "jhUIl68zjS3j"
      },
      "source": [
        "# we will use log likelihoods\n",
        "\n",
        "log_likelihood_token_spam = np.log(prob_token_spam)\n",
        "log_likelihood_token_ham = np.log(prob_token_ham)\n",
        "log_likelihood_token_all = np.log(prob_token_all)"
      ],
      "execution_count": 19,
      "outputs": []
    },
    {
      "cell_type": "code",
      "metadata": {
        "colab": {
          "base_uri": "https://localhost:8080/"
        },
        "id": "8rTZGrozlfwK",
        "outputId": "376affeb-8f81-423d-871b-7a9581b0b316"
      },
      "source": [
        "log_likelihood_token_spam[:5]"
      ],
      "execution_count": 20,
      "outputs": [
        {
          "output_type": "execute_result",
          "data": {
            "text/plain": [
              "array([-4.54720512, -5.3186732 , -4.93003326, -4.52432751, -5.03820559])"
            ]
          },
          "metadata": {
            "tags": []
          },
          "execution_count": 20
        }
      ]
    },
    {
      "cell_type": "markdown",
      "metadata": {
        "id": "NB84NIfpltr1"
      },
      "source": [
        "## Joint Probability in log format"
      ]
    },
    {
      "cell_type": "code",
      "metadata": {
        "id": "bRii4IS-lp47"
      },
      "source": [
        "# LL = Log Likelihood\n",
        "\n",
        "# joint probability of spam email = \n",
        "# (dot product of X_test and (LL of token|spam - LL of token|all emails)) + LL(Spam|All emails)\n",
        "\n",
        "# we are subtracting instead of dividing because we are dealing with logs \n",
        "\n",
        "joint_log_spam = X_test.dot(log_likelihood_token_spam - log_likelihood_token_all) + np.log(PROB_SPAM)"
      ],
      "execution_count": 21,
      "outputs": []
    },
    {
      "cell_type": "code",
      "metadata": {
        "colab": {
          "base_uri": "https://localhost:8080/"
        },
        "id": "nPEzXHsuxa1M",
        "outputId": "e2cf4b88-82f2-422a-af18-47b126870116"
      },
      "source": [
        "joint_log_spam[-5:]"
      ],
      "execution_count": 22,
      "outputs": [
        {
          "output_type": "execute_result",
          "data": {
            "text/plain": [
              "array([-48.08690204, -28.36239122, -51.0740788 , -20.55752551,\n",
              "       -60.93471861])"
            ]
          },
          "metadata": {
            "tags": []
          },
          "execution_count": 22
        }
      ]
    },
    {
      "cell_type": "code",
      "metadata": {
        "colab": {
          "base_uri": "https://localhost:8080/"
        },
        "id": "KXTtVnwn6F3I",
        "outputId": "4258cd07-b538-4974-d5aa-ebc66cdb998f"
      },
      "source": [
        "joint_log_spam.shape"
      ],
      "execution_count": 23,
      "outputs": [
        {
          "output_type": "execute_result",
          "data": {
            "text/plain": [
              "(1722,)"
            ]
          },
          "metadata": {
            "tags": []
          },
          "execution_count": 23
        }
      ]
    },
    {
      "cell_type": "markdown",
      "metadata": {
        "id": "Pr2FJ7KK7AJE"
      },
      "source": [
        "## Set the Prior Probability: Non-Spam\n",
        "\n",
        "$$P(Ham \\, | \\, X) = \\frac{P(X \\, | Ham) \\,  P(Ham)} {P(X)}$$"
      ]
    },
    {
      "cell_type": "code",
      "metadata": {
        "id": "WRpahUW96Yax"
      },
      "source": [
        "joint_log_ham = X_test.dot(log_likelihood_token_ham - log_likelihood_token_all) + np.log(PROB_HAM)"
      ],
      "execution_count": 24,
      "outputs": []
    },
    {
      "cell_type": "code",
      "metadata": {
        "colab": {
          "base_uri": "https://localhost:8080/"
        },
        "id": "NPmDU48b6s2e",
        "outputId": "7880e810-f102-4aa4-9da6-6b71c526c573"
      },
      "source": [
        "joint_log_ham[:5]"
      ],
      "execution_count": 25,
      "outputs": [
        {
          "output_type": "execute_result",
          "data": {
            "text/plain": [
              "array([-39.87061549, -29.15965783, -40.09390282, -54.59701313,\n",
              "       -20.36508192])"
            ]
          },
          "metadata": {
            "tags": []
          },
          "execution_count": 25
        }
      ]
    },
    {
      "cell_type": "code",
      "metadata": {
        "colab": {
          "base_uri": "https://localhost:8080/"
        },
        "id": "0YNfUMqJ7Qvh",
        "outputId": "4cac92bf-5376-48c1-cfa9-4c662db583e5"
      },
      "source": [
        "joint_log_ham.size"
      ],
      "execution_count": 26,
      "outputs": [
        {
          "output_type": "execute_result",
          "data": {
            "text/plain": [
              "1722"
            ]
          },
          "metadata": {
            "tags": []
          },
          "execution_count": 26
        }
      ]
    },
    {
      "cell_type": "code",
      "metadata": {
        "colab": {
          "base_uri": "https://localhost:8080/"
        },
        "id": "dcgkiMnl6uZj",
        "outputId": "5b460fe7-dbc4-468a-e5a1-17b41c6fec8c"
      },
      "source": [
        "joint_log_ham.shape"
      ],
      "execution_count": 27,
      "outputs": [
        {
          "output_type": "execute_result",
          "data": {
            "text/plain": [
              "(1722,)"
            ]
          },
          "metadata": {
            "tags": []
          },
          "execution_count": 27
        }
      ]
    },
    {
      "cell_type": "markdown",
      "metadata": {
        "id": "W4ayx-UQ9JhV"
      },
      "source": [
        "# Making Predictions \n",
        "\n",
        "## Checking for the higher Joint Probability\n",
        "\n",
        "$$P(Spam \\, | \\, X) > P(Ham \\, | \\, X)$$\n",
        "<center>OR<center>\n",
        "\n",
        "$$P(Spam \\, | \\, X) < P(Ham \\, | \\, X)$$"
      ]
    },
    {
      "cell_type": "markdown",
      "metadata": {
        "id": "WNA-73qG_bF4"
      },
      "source": [
        "Create a vector of predictions ($\\hat y$)\n",
        "\n",
        "Spam = 1\n",
        "<br>\n",
        "Non-Spam = 0"
      ]
    },
    {
      "cell_type": "code",
      "metadata": {
        "id": "eVXIF60W-w6S"
      },
      "source": [
        "\n",
        "# prediction[i] = True \n",
        "#    if log_spam > log_ham\n",
        "\n",
        "# prediction[i] = False \n",
        "#    if log_spam < log_ham\n",
        "prediction = joint_log_spam > joint_log_ham"
      ],
      "execution_count": 28,
      "outputs": []
    },
    {
      "cell_type": "code",
      "metadata": {
        "colab": {
          "base_uri": "https://localhost:8080/"
        },
        "id": "yCboyKUeCcXw",
        "outputId": "6c7f118c-2f0c-4d08-f8f9-41d5e7e3ff74"
      },
      "source": [
        "prediction[-5:]"
      ],
      "execution_count": 29,
      "outputs": [
        {
          "output_type": "execute_result",
          "data": {
            "text/plain": [
              "array([False, False, False, False, False])"
            ]
          },
          "metadata": {
            "tags": []
          },
          "execution_count": 29
        }
      ]
    },
    {
      "cell_type": "code",
      "metadata": {
        "colab": {
          "base_uri": "https://localhost:8080/"
        },
        "id": "ZAMrAJcHN4N1",
        "outputId": "1a8871b4-477f-4748-f89b-9fb71732e55a"
      },
      "source": [
        "y_test[-5:]"
      ],
      "execution_count": 30,
      "outputs": [
        {
          "output_type": "execute_result",
          "data": {
            "text/plain": [
              "array([0., 0., 0., 0., 0.])"
            ]
          },
          "metadata": {
            "tags": []
          },
          "execution_count": 30
        }
      ]
    },
    {
      "cell_type": "markdown",
      "metadata": {
        "id": "pndClLSSPwZq"
      },
      "source": [
        "Simplify our expressions\n",
        "\n",
        "Recall: We are subtracting instead of dividing because we took the log probabities\n",
        "\n",
        "joint_log_spam = X_test.dot(log_likelihood_token_spam - log_likelihood_token_all) + np.log(PROB_SPAM)\n",
        "\n",
        "is equivalent to the naive bayes equation\n",
        "\n",
        "\n",
        "we can simplify our expression by removing the likelihood of a token occuring given all words(log_likelihood_token_all) as the probability of an email being spam or not spam doesn't depend on it."
      ]
    },
    {
      "cell_type": "code",
      "metadata": {
        "id": "XKJWOtSTPvXl"
      },
      "source": [
        "# joint_log_spam = X_test.dot(log_likelihood_token_spam) + np.log(PROB_SPAM)\n",
        "# joint_log_ham = X_test.dot(log_likelihood_token_ham) + np.log(PROB_HAM)"
      ],
      "execution_count": 31,
      "outputs": []
    },
    {
      "cell_type": "markdown",
      "metadata": {
        "id": "7emMjbkOR5pG"
      },
      "source": [
        "# Metrics and Accuracy"
      ]
    },
    {
      "cell_type": "markdown",
      "metadata": {
        "id": "LqFC3SNtR99W"
      },
      "source": [
        "## Accuracy "
      ]
    },
    {
      "cell_type": "code",
      "metadata": {
        "id": "r_AykgB3R74e"
      },
      "source": [
        "# sum up all our correct predictions\n",
        "\n",
        "# correct predictins are where y_test is equal to our predictions\n",
        "\n",
        "correct_pred = (y_test == prediction).sum()\n",
        "incorrect_pred = (y_test != prediction).sum()\n",
        "\n",
        "total_emails = X_test.shape[0]\n",
        "accuracy = correct_pred / total_emails"
      ],
      "execution_count": 32,
      "outputs": []
    },
    {
      "cell_type": "code",
      "metadata": {
        "colab": {
          "base_uri": "https://localhost:8080/"
        },
        "id": "VPJU5Lt7SNm5",
        "outputId": "3d0c5fbf-c40b-463c-d99c-403eb395dd78"
      },
      "source": [
        "print(\"The number of correct predictions are: \", correct_pred)\n",
        "print(\"The number of incorrect predictions are: \", incorrect_pred)\n",
        "print(\"Accuracy of Naive Bayes Classifier is: {:.2%}\".format(accuracy))"
      ],
      "execution_count": 33,
      "outputs": [
        {
          "output_type": "stream",
          "text": [
            "The number of correct predictions are:  1678\n",
            "The number of incorrect predictions are:  44\n",
            "Accuracy of Naive Bayes Classifier is: 97.44%\n"
          ],
          "name": "stdout"
        }
      ]
    },
    {
      "cell_type": "markdown",
      "metadata": {
        "id": "HfnthlOhBB0G"
      },
      "source": [
        "Warning! Accuracy is inutuitive and easy to understand but for an imbalanced data set, it may give us a misleadingly high number. To verify the quality or our results we will visualize our results as well as use other metrics such as Recall, Precision, and F score."
      ]
    },
    {
      "cell_type": "markdown",
      "metadata": {
        "id": "9_pOoD6rUUy1"
      },
      "source": [
        "# Visualizing Our Results"
      ]
    },
    {
      "cell_type": "code",
      "metadata": {
        "id": "Dwpz-jfnUXJJ"
      },
      "source": [
        "# Chart Styling Info \n",
        "\n",
        "xaxis_label = 'P(X|Nonspam)'\n",
        "yaxis_label = 'P(X|Spam)'\n",
        "\n",
        "linedata = np.linspace(start=-175, stop=25, num=1000)"
      ],
      "execution_count": 63,
      "outputs": []
    },
    {
      "cell_type": "code",
      "metadata": {
        "colab": {
          "base_uri": "https://localhost:8080/",
          "height": 447
        },
        "id": "GnED6bLmU9zK",
        "outputId": "8e51fd3a-3f8d-4e6d-cf37-a850d2d12dd6"
      },
      "source": [
        "plt.figure(figsize=(11, 7))\n",
        "plt.xlabel(xaxis_label, fontsize=14)\n",
        "plt.ylabel(yaxis_label, fontsize=14)\n",
        "\n",
        "# set scale for x and y axis\n",
        "# plt.xlim([-1000, 1000])\n",
        "# plt.ylim([-1000, 1000])\n",
        "plt.scatter(joint_log_ham, joint_log_spam)\n",
        "\n",
        "plt.style.use('dark_background')\n",
        "\n",
        "\n",
        "plt.show()"
      ],
      "execution_count": 42,
      "outputs": [
        {
          "output_type": "display_data",
          "data": {
            "image/png": "[encoded data removed]",
            "text/plain": [
              "<Figure size 792x504 with 1 Axes>"
            ]
          },
          "metadata": {
            "tags": []
          }
        }
      ]
    },
    {
      "cell_type": "code",
      "metadata": {
        "id": "xzj1inOAvHrI"
      },
      "source": [
        "# Chart Styling\n",
        "\n",
        "sns.set_style('whitegrid')\n",
        "labels = 'Actual Category'\n",
        "\n",
        "summary_df = pd.DataFrame(\n",
        "    {yaxis_label: joint_log_spam,\n",
        "     xaxis_label: joint_log_ham,\n",
        "     labels: y_test}\n",
        ")"
      ],
      "execution_count": 50,
      "outputs": []
    },
    {
      "cell_type": "code",
      "metadata": {
        "colab": {
          "base_uri": "https://localhost:8080/",
          "height": 492
        },
        "id": "gNnFGIUtvgDE",
        "outputId": "bcc0d987-f01c-4ebc-e345-2fc86fb38d97"
      },
      "source": [
        "# plt.figure(figsize=(16, 10))\n",
        "custom_colors = ['#003566', '#e5383b']\n",
        "sns.lmplot(x=xaxis_label,\n",
        "           y=yaxis_label,\n",
        "           data=summary_df,\n",
        "           height=6.5,\n",
        "           fit_reg=False,\n",
        "           legend=False,\n",
        "           scatter_kws={'alpha': 0.3, 's': 25},\n",
        "           hue=labels,\n",
        "           markers=['o', 'x'],\n",
        "           palette=custom_colors)\n",
        "\n",
        "# plt.xlim([-1000, 1])\n",
        "# plt.ylim([-1000, 1])\n",
        "plt.plot(linedata, linedata, color='black')\n",
        "plt.legend(('Decision Boundary', 'Nonspam', 'Spam'),\n",
        "           loc='lower right',\n",
        "           fontsize=14)\n",
        "plt.show()"
      ],
      "execution_count": 99,
      "outputs": [
        {
          "output_type": "display_data",
          "data": {
            "image/png": "[encoded data removed]",
            "text/plain": [
              "<Figure size 468x468 with 1 Axes>"
            ]
          },
          "metadata": {
            "tags": []
          }
        }
      ]
    },
    {
      "cell_type": "markdown",
      "metadata": {
        "id": "mj2JLF3x5dj6"
      },
      "source": [
        "# False Positives and False Negatives"
      ]
    },
    {
      "cell_type": "code",
      "metadata": {
        "id": "XlgaOePc5geq"
      },
      "source": [
        "'''\n",
        "FP: spam classifier classifies email as spam but is non-spam\n",
        "FN: spam classifier classifies email as non-spam but is spam\n",
        "'''"
      ],
      "execution_count": null,
      "outputs": []
    },
    {
      "cell_type": "code",
      "metadata": {
        "colab": {
          "base_uri": "https://localhost:8080/"
        },
        "id": "iZ-lJPbl51Hu",
        "outputId": "84b45f8e-22b5-4c07-8da0-0feb151b362f"
      },
      "source": [
        "# return counts of spam classified and non-spam classifed\n",
        "np.unique(prediction, return_counts=True)"
      ],
      "execution_count": 75,
      "outputs": [
        {
          "output_type": "execute_result",
          "data": {
            "text/plain": [
              "(array([False,  True]), array([1155,  567]))"
            ]
          },
          "metadata": {
            "tags": []
          },
          "execution_count": 75
        }
      ]
    },
    {
      "cell_type": "code",
      "metadata": {
        "id": "PD0NEJ0o6LFD"
      },
      "source": [
        "# bitwise operator: &\n",
        "\n",
        "# allows to compare element by element\n",
        "\n",
        "true_pos = (y_test == 1) & (prediction == 1) \n"
      ],
      "execution_count": 82,
      "outputs": []
    },
    {
      "cell_type": "code",
      "metadata": {
        "colab": {
          "base_uri": "https://localhost:8080/"
        },
        "id": "h_fmuIqT6Ygi",
        "outputId": "ab3dd2de-5db4-4542-8033-71a96a1abc9b"
      },
      "source": [
        "true_pos.sum() # number of actual true spam emails"
      ],
      "execution_count": 83,
      "outputs": [
        {
          "output_type": "execute_result",
          "data": {
            "text/plain": [
              "555"
            ]
          },
          "metadata": {
            "tags": []
          },
          "execution_count": 83
        }
      ]
    },
    {
      "cell_type": "code",
      "metadata": {
        "id": "5r-ipYoq7CQg"
      },
      "source": [
        "# number of emails that were actually spam but were classified non-spam\n",
        "false_pos = (y_test == 0) & (prediction == 1)  "
      ],
      "execution_count": 87,
      "outputs": []
    },
    {
      "cell_type": "code",
      "metadata": {
        "colab": {
          "base_uri": "https://localhost:8080/"
        },
        "id": "wUhGq7GH7I_O",
        "outputId": "a30096b0-b8f1-400c-e838-add3d56f1946"
      },
      "source": [
        "false_pos.sum() "
      ],
      "execution_count": 88,
      "outputs": [
        {
          "output_type": "execute_result",
          "data": {
            "text/plain": [
              "12"
            ]
          },
          "metadata": {
            "tags": []
          },
          "execution_count": 88
        }
      ]
    },
    {
      "cell_type": "code",
      "metadata": {
        "id": "_4iSCBLg7aET"
      },
      "source": [
        "# number of emails that are non-spam and were classified as non-spam correctly\n",
        "true_neg = (y_test == 0) & (prediction == 0)  "
      ],
      "execution_count": 89,
      "outputs": []
    },
    {
      "cell_type": "code",
      "metadata": {
        "colab": {
          "base_uri": "https://localhost:8080/"
        },
        "id": "ddkT3PLs7reQ",
        "outputId": "cc791abd-b5fe-44ee-db9e-3b4f4784f22d"
      },
      "source": [
        "true_neg.sum()"
      ],
      "execution_count": 90,
      "outputs": [
        {
          "output_type": "execute_result",
          "data": {
            "text/plain": [
              "1123"
            ]
          },
          "metadata": {
            "tags": []
          },
          "execution_count": 90
        }
      ]
    },
    {
      "cell_type": "code",
      "metadata": {
        "id": "O5n4pj5w7onf"
      },
      "source": [
        "# number of emails that were actually non-spam but were classified as spam\n",
        "false_neg = (y_test == 1) & (prediction == 0)  "
      ],
      "execution_count": 91,
      "outputs": []
    },
    {
      "cell_type": "code",
      "metadata": {
        "colab": {
          "base_uri": "https://localhost:8080/"
        },
        "id": "E5e-CxEY7ymJ",
        "outputId": "99cf3127-db74-4478-e77c-7b5eea8274b9"
      },
      "source": [
        "false_neg.sum()"
      ],
      "execution_count": 93,
      "outputs": [
        {
          "output_type": "execute_result",
          "data": {
            "text/plain": [
              "32"
            ]
          },
          "metadata": {
            "tags": []
          },
          "execution_count": 93
        }
      ]
    },
    {
      "cell_type": "markdown",
      "metadata": {
        "id": "QwqCGBpr8K7e"
      },
      "source": [
        "# Recall Score (Sensitivity)\n",
        "\n",
        "$$Recall = \\frac{True \\, Positives} {True \\, Positives \\, + False \\, Negatives}$$"
      ]
    },
    {
      "cell_type": "markdown",
      "metadata": {
        "id": "Z15aAtrS8_Ng"
      },
      "source": [
        "The lower the number of False Negatives, the higher our recall score.\n",
        "\n",
        "In our case, our recall score will tell us the rate at which we CORRECTLY identified spam emails given the number of emails that are ACTUALLY spam."
      ]
    },
    {
      "cell_type": "code",
      "metadata": {
        "id": "CgnrEhHB8uSC"
      },
      "source": [
        "recall_score = true_pos.sum() / (true_pos.sum() + false_neg.sum())"
      ],
      "execution_count": 101,
      "outputs": []
    },
    {
      "cell_type": "code",
      "metadata": {
        "colab": {
          "base_uri": "https://localhost:8080/"
        },
        "id": "p_t9DIoa-Pdg",
        "outputId": "4df5cc42-b113-4318-a541-6002e3d485cd"
      },
      "source": [
        "print(\"The recall score is {:.2%}\".format(recall_score))"
      ],
      "execution_count": 106,
      "outputs": [
        {
          "output_type": "stream",
          "text": [
            "The recall score is 94.55%\n"
          ],
          "name": "stdout"
        }
      ]
    },
    {
      "cell_type": "markdown",
      "metadata": {
        "id": "wffMHEaA-2cm"
      },
      "source": [
        "# Precision (Positive Predictive Value)\n",
        "\n",
        "$$Precision = \\frac{True \\, Positives} {True \\, Positives \\, + False \\, Positives}$$"
      ]
    },
    {
      "cell_type": "markdown",
      "metadata": {
        "id": "vvl8UUkvAQxT"
      },
      "source": [
        "In our case, our precision score will tell us the rate at which we CORRECTLY identified spam emails out of all the emails that were PREDICTED to be spam."
      ]
    },
    {
      "cell_type": "code",
      "metadata": {
        "id": "RsAKpchk_DXR"
      },
      "source": [
        "precision_score = true_pos.sum() / (true_pos.sum() + false_pos.sum())"
      ],
      "execution_count": 107,
      "outputs": []
    },
    {
      "cell_type": "code",
      "metadata": {
        "colab": {
          "base_uri": "https://localhost:8080/"
        },
        "id": "tDQeoaczDIB0",
        "outputId": "39a960e2-304f-4c27-824a-22f66ea5c76d"
      },
      "source": [
        "print(\"The precision score is {:.2%}\".format(precision_score))"
      ],
      "execution_count": 108,
      "outputs": [
        {
          "output_type": "stream",
          "text": [
            "The precision score is 97.88%\n"
          ],
          "name": "stdout"
        }
      ]
    },
    {
      "cell_type": "markdown",
      "metadata": {
        "id": "DWnDebOwDdwX"
      },
      "source": [
        "# F-Score (F1 Metric)\n",
        "\n",
        "$$F-Score = 2 \\times \\frac{Precision \\, \\times Recall} {Precision \\, + Recall}$$\n",
        "<br>\n",
        "$$0 \\leq F-Score \\leq 1$$"
      ]
    },
    {
      "cell_type": "markdown",
      "metadata": {
        "id": "o4anWwnTE0IV"
      },
      "source": [
        "In mathematical terms, the F-Score is the harmonic average of the precision and recall.\n",
        "\n"
      ]
    },
    {
      "cell_type": "markdown",
      "metadata": {
        "id": "vUU0iXr7EXOw"
      },
      "source": [
        "Reconcile Recall and Precision with F-Score"
      ]
    },
    {
      "cell_type": "code",
      "metadata": {
        "id": "5sucuaa0D9Tz"
      },
      "source": [
        "f_score = 2 * (precision_score * recall_score) / (precision_score + recall_score)"
      ],
      "execution_count": 109,
      "outputs": []
    },
    {
      "cell_type": "code",
      "metadata": {
        "colab": {
          "base_uri": "https://localhost:8080/"
        },
        "id": "eobdSijWEnGf",
        "outputId": "d43108a9-4dfd-4fbe-b217-d00f5da3a8b5"
      },
      "source": [
        "print(\"The F-Score is {:.2}\".format(f_score))"
      ],
      "execution_count": 112,
      "outputs": [
        {
          "output_type": "stream",
          "text": [
            "The F-Score is 0.96\n"
          ],
          "name": "stdout"
        }
      ]
    }
  ]
}